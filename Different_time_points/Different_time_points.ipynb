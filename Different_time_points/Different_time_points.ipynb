{
 "cells": [
  {
   "cell_type": "markdown",
   "metadata": {},
   "source": [
    "# =phenotype ^ !=t 17/05/2022"
   ]
  },
  {
   "cell_type": "code",
   "execution_count": 185,
   "metadata": {},
   "outputs": [],
   "source": [
    "import pandas as pd\n",
    "import numpy as np\n",
    "import matplotlib.pyplot as plt\n",
    "import matplotlib.image as mpimg\n",
    "import pickle5 as pickle"
   ]
  },
  {
   "cell_type": "code",
   "execution_count": 186,
   "metadata": {},
   "outputs": [],
   "source": [
    "## Analize subjects with images at different instances\n",
    "\n",
    "dir_ukb_csv_1 = '/NVME/decrypted/ukbb/labels/1_data_extraction/ukb34181.csv' \n",
    "phenofiles_dir = '/NVME/decrypted/ukbb/fundus/phenotypes'\n",
    "save_file = '/SSD/home/sofia/retina/' \n",
    "\n",
    "list_right_eyes = ['eid', '21016-0.0', '21016-1.0', '21016-0.1', '21016-1.1']\n",
    "list_left_eyes = ['eid', '21015-0.0', '21015-1.0', '21015-0.1', '21015-1.1'] \n",
    "\n",
    "df_data = pd.read_csv(dir_ukb_csv_1, sep=',')\n",
    "\n",
    "df_data_right = df_data[list_right_eyes]\n",
    "df_data_left = df_data[list_left_eyes]"
   ]
  },
  {
   "cell_type": "markdown",
   "metadata": {},
   "source": [
    "## Only select subjects with: (0.0 or 0.1) and (1.0 or 1.1) !=nan"
   ]
  },
  {
   "cell_type": "code",
   "execution_count": 199,
   "metadata": {},
   "outputs": [
    {
     "name": "stderr",
     "output_type": "stream",
     "text": [
      "/SSD/home/sofia/.local/lib/python3.7/site-packages/ipykernel_launcher.py:2: SettingWithCopyWarning: \n",
      "A value is trying to be set on a copy of a slice from a DataFrame.\n",
      "Try using .loc[row_indexer,col_indexer] = value instead\n",
      "\n",
      "See the caveats in the documentation: https://pandas.pydata.org/pandas-docs/stable/user_guide/indexing.html#returning-a-view-versus-a-copy\n",
      "  \n",
      "/SSD/home/sofia/.local/lib/python3.7/site-packages/ipykernel_launcher.py:3: SettingWithCopyWarning: \n",
      "A value is trying to be set on a copy of a slice from a DataFrame.\n",
      "Try using .loc[row_indexer,col_indexer] = value instead\n",
      "\n",
      "See the caveats in the documentation: https://pandas.pydata.org/pandas-docs/stable/user_guide/indexing.html#returning-a-view-versus-a-copy\n",
      "  This is separate from the ipykernel package so we can avoid doing imports until\n",
      "/SSD/home/sofia/.local/lib/python3.7/site-packages/ipykernel_launcher.py:4: SettingWithCopyWarning: \n",
      "A value is trying to be set on a copy of a slice from a DataFrame.\n",
      "Try using .loc[row_indexer,col_indexer] = value instead\n",
      "\n",
      "See the caveats in the documentation: https://pandas.pydata.org/pandas-docs/stable/user_guide/indexing.html#returning-a-view-versus-a-copy\n",
      "  after removing the cwd from sys.path.\n",
      "/SSD/home/sofia/.local/lib/python3.7/site-packages/ipykernel_launcher.py:5: SettingWithCopyWarning: \n",
      "A value is trying to be set on a copy of a slice from a DataFrame.\n",
      "Try using .loc[row_indexer,col_indexer] = value instead\n",
      "\n",
      "See the caveats in the documentation: https://pandas.pydata.org/pandas-docs/stable/user_guide/indexing.html#returning-a-view-versus-a-copy\n",
      "  \"\"\"\n",
      "/SSD/home/sofia/.local/lib/python3.7/site-packages/ipykernel_launcher.py:7: SettingWithCopyWarning: \n",
      "A value is trying to be set on a copy of a slice from a DataFrame.\n",
      "Try using .loc[row_indexer,col_indexer] = value instead\n",
      "\n",
      "See the caveats in the documentation: https://pandas.pydata.org/pandas-docs/stable/user_guide/indexing.html#returning-a-view-versus-a-copy\n",
      "  import sys\n",
      "/SSD/home/sofia/.local/lib/python3.7/site-packages/ipykernel_launcher.py:8: SettingWithCopyWarning: \n",
      "A value is trying to be set on a copy of a slice from a DataFrame.\n",
      "Try using .loc[row_indexer,col_indexer] = value instead\n",
      "\n",
      "See the caveats in the documentation: https://pandas.pydata.org/pandas-docs/stable/user_guide/indexing.html#returning-a-view-versus-a-copy\n",
      "  \n",
      "/SSD/home/sofia/.local/lib/python3.7/site-packages/ipykernel_launcher.py:9: SettingWithCopyWarning: \n",
      "A value is trying to be set on a copy of a slice from a DataFrame.\n",
      "Try using .loc[row_indexer,col_indexer] = value instead\n",
      "\n",
      "See the caveats in the documentation: https://pandas.pydata.org/pandas-docs/stable/user_guide/indexing.html#returning-a-view-versus-a-copy\n",
      "  if __name__ == '__main__':\n",
      "/SSD/home/sofia/.local/lib/python3.7/site-packages/ipykernel_launcher.py:10: SettingWithCopyWarning: \n",
      "A value is trying to be set on a copy of a slice from a DataFrame.\n",
      "Try using .loc[row_indexer,col_indexer] = value instead\n",
      "\n",
      "See the caveats in the documentation: https://pandas.pydata.org/pandas-docs/stable/user_guide/indexing.html#returning-a-view-versus-a-copy\n",
      "  # Remove the CWD from sys.path while we load stuff.\n"
     ]
    },
    {
     "name": "stdout",
     "output_type": "stream",
     "text": [
      "len df_right_intersection: 2283 , and len df_left_intersection: 2257\n"
     ]
    }
   ],
   "source": [
    "# Replace nans by 0 to avoid nans issues\n",
    "df_data_right['21016-0.0'] = df_data_right['21016-0.0'].fillna(0)\n",
    "df_data_right['21016-0.1'] = df_data_right['21016-0.1'].fillna(0)\n",
    "df_data_right['21016-1.0'] = df_data_right['21016-1.0'].fillna(0)\n",
    "df_data_right['21016-1.1'] = df_data_right['21016-1.1'].fillna(0)\n",
    "\n",
    "df_data_left['21015-0.0'] = df_data_left['21015-0.0'].fillna(0)\n",
    "df_data_left['21015-0.1'] = df_data_left['21015-0.1'].fillna(0)\n",
    "df_data_left['21015-1.0'] = df_data_left['21015-1.0'].fillna(0)\n",
    "df_data_left['21015-1.1'] = df_data_left['21015-1.1'].fillna(0)\n",
    "\n",
    "df_right_intersection = df_data_right[((df_data_right['21016-0.0']!=0)|(df_data_right['21016-0.1']!=0)) & \n",
    "                                    ((df_data_right['21016-1.0']!=0)|(df_data_right['21016-1.1']!=0))]\n",
    "\n",
    "df_left_intersection = df_data_left[((df_data_left['21015-0.0']!=0)|(df_data_left['21015-0.1']!=0)) & \n",
    "                                    ((df_data_left['21015-1.0']!=0)|(df_data_left['21015-1.1']!=0))]\n",
    "\n",
    "print('len df_right_intersection:',len(df_right_intersection), ', and len df_left_intersection:',len(df_left_intersection))\n"
   ]
  },
  {
   "cell_type": "code",
   "execution_count": 188,
   "metadata": {},
   "outputs": [
    {
     "name": "stderr",
     "output_type": "stream",
     "text": [
      "/SSD/home/sofia/.local/lib/python3.7/site-packages/ipykernel_launcher.py:1: SettingWithCopyWarning: \n",
      "A value is trying to be set on a copy of a slice from a DataFrame.\n",
      "Try using .loc[row_indexer,col_indexer] = value instead\n",
      "\n",
      "See the caveats in the documentation: https://pandas.pydata.org/pandas-docs/stable/user_guide/indexing.html#returning-a-view-versus-a-copy\n",
      "  \"\"\"Entry point for launching an IPython kernel.\n",
      "/SSD/home/sofia/.local/lib/python3.7/site-packages/ipykernel_launcher.py:2: SettingWithCopyWarning: \n",
      "A value is trying to be set on a copy of a slice from a DataFrame.\n",
      "Try using .loc[row_indexer,col_indexer] = value instead\n",
      "\n",
      "See the caveats in the documentation: https://pandas.pydata.org/pandas-docs/stable/user_guide/indexing.html#returning-a-view-versus-a-copy\n",
      "  \n",
      "/SSD/home/sofia/.local/lib/python3.7/site-packages/ipykernel_launcher.py:3: SettingWithCopyWarning: \n",
      "A value is trying to be set on a copy of a slice from a DataFrame.\n",
      "Try using .loc[row_indexer,col_indexer] = value instead\n",
      "\n",
      "See the caveats in the documentation: https://pandas.pydata.org/pandas-docs/stable/user_guide/indexing.html#returning-a-view-versus-a-copy\n",
      "  This is separate from the ipykernel package so we can avoid doing imports until\n",
      "/SSD/home/sofia/.local/lib/python3.7/site-packages/ipykernel_launcher.py:4: SettingWithCopyWarning: \n",
      "A value is trying to be set on a copy of a slice from a DataFrame.\n",
      "Try using .loc[row_indexer,col_indexer] = value instead\n",
      "\n",
      "See the caveats in the documentation: https://pandas.pydata.org/pandas-docs/stable/user_guide/indexing.html#returning-a-view-versus-a-copy\n",
      "  after removing the cwd from sys.path.\n",
      "/SSD/home/sofia/.local/lib/python3.7/site-packages/ipykernel_launcher.py:6: SettingWithCopyWarning: \n",
      "A value is trying to be set on a copy of a slice from a DataFrame.\n",
      "Try using .loc[row_indexer,col_indexer] = value instead\n",
      "\n",
      "See the caveats in the documentation: https://pandas.pydata.org/pandas-docs/stable/user_guide/indexing.html#returning-a-view-versus-a-copy\n",
      "  \n",
      "/SSD/home/sofia/.local/lib/python3.7/site-packages/ipykernel_launcher.py:7: SettingWithCopyWarning: \n",
      "A value is trying to be set on a copy of a slice from a DataFrame.\n",
      "Try using .loc[row_indexer,col_indexer] = value instead\n",
      "\n",
      "See the caveats in the documentation: https://pandas.pydata.org/pandas-docs/stable/user_guide/indexing.html#returning-a-view-versus-a-copy\n",
      "  import sys\n",
      "/SSD/home/sofia/.local/lib/python3.7/site-packages/ipykernel_launcher.py:8: SettingWithCopyWarning: \n",
      "A value is trying to be set on a copy of a slice from a DataFrame.\n",
      "Try using .loc[row_indexer,col_indexer] = value instead\n",
      "\n",
      "See the caveats in the documentation: https://pandas.pydata.org/pandas-docs/stable/user_guide/indexing.html#returning-a-view-versus-a-copy\n",
      "  \n",
      "/SSD/home/sofia/.local/lib/python3.7/site-packages/ipykernel_launcher.py:9: SettingWithCopyWarning: \n",
      "A value is trying to be set on a copy of a slice from a DataFrame.\n",
      "Try using .loc[row_indexer,col_indexer] = value instead\n",
      "\n",
      "See the caveats in the documentation: https://pandas.pydata.org/pandas-docs/stable/user_guide/indexing.html#returning-a-view-versus-a-copy\n",
      "  if __name__ == '__main__':\n"
     ]
    }
   ],
   "source": [
    "df_right_intersection['image_00']=df_right_intersection['eid'].astype(str) + '_21016_0_0.png'\n",
    "df_right_intersection['image_01']=df_right_intersection['eid'].astype(str) + '_21016_0_1.png'\n",
    "df_right_intersection['image_10']=df_right_intersection['eid'].astype(str) + '_21016_1_0.png'\n",
    "df_right_intersection['image_11']=df_right_intersection['eid'].astype(str) + '_21016_1_1.png'\n",
    "\n",
    "df_left_intersection['image_00']=df_left_intersection['eid'].astype(str) + '_21015_0_0.png'\n",
    "df_left_intersection['image_01']=df_left_intersection['eid'].astype(str) + '_21015_0_1.png'\n",
    "df_left_intersection['image_10']=df_left_intersection['eid'].astype(str) + '_21015_1_0.png'\n",
    "df_left_intersection['image_11']=df_left_intersection['eid'].astype(str) + '_21015_1_1.png'"
   ]
  },
  {
   "cell_type": "code",
   "execution_count": 189,
   "metadata": {},
   "outputs": [],
   "source": [
    "## Read phenofiles data \n",
    "pheno_ARIA = pd.read_csv(phenofiles_dir + '/2021-12-28_ARIA_phenotypes.csv')\n",
    "pheno_N_green = pd.read_csv(phenofiles_dir + '/2022-02-01_N_green_pixels.csv')\n",
    "pheno_N_bif = pd.read_csv(phenofiles_dir+ '/2022-02-04_bifurcations.csv')\n",
    "pheno_tVA = pd.read_csv(phenofiles_dir+ '/2022-02-13_tVA_phenotypes.csv')\n",
    "pheno_tAA = pd.read_csv(phenofiles_dir + '/2022-02-14_tAA_phenotypes.csv')\n",
    "pheno_NeoOD = pd.read_csv(phenofiles_dir + '/2022-02-17_NeovasOD_phenotypes.csv')\n",
    "pheno_greenOD = pd.read_csv(phenofiles_dir + \"/2022-02-21_green_pixels_over_total_OD_phenotypes.csv\")\n",
    "pheno_N_green_seg = pd.read_csv(phenofiles_dir + \"/2022-02-21_N_green_segments_phenotypes.csv\")\n",
    "pheno_FD = pd.read_csv(phenofiles_dir + \"/2021-11-30_fractalDimension.csv\")\n",
    "pheno_VD = pd.read_csv(phenofiles_dir + \"/2022-04-12_vascular_density.csv\")\n",
    "\n",
    "## Add name to the first column\n",
    "pheno_ARIA.rename(columns={pheno_ARIA.columns[0]: 'image'}, inplace=True)\n",
    "pheno_N_green.rename(columns={pheno_N_green.columns[0]: 'image'}, inplace=True)\n",
    "pheno_N_bif.rename(columns={pheno_N_bif.columns[0]: 'image', pheno_N_bif.columns[1]: 'N_bif'}, inplace=True)\n",
    "pheno_tVA.rename(columns={pheno_tVA.columns[0]: 'image'}, inplace=True)\n",
    "pheno_tAA.rename(columns={pheno_tAA.columns[0]: 'image'}, inplace=True)\n",
    "pheno_NeoOD.rename(columns={pheno_NeoOD.columns[0]: 'image'}, inplace=True)\n",
    "pheno_greenOD.rename(columns={pheno_greenOD.columns[0]: 'image'}, inplace=True)\n",
    "pheno_N_green_seg.rename(columns={pheno_N_green_seg.columns[0]: 'image'}, inplace=True)\n",
    "pheno_FD.rename(columns={pheno_FD.columns[0]: 'image'}, inplace=True)\n",
    "pheno_VD.rename(columns={pheno_VD.columns[0]: 'image'}, inplace=True)"
   ]
  },
  {
   "cell_type": "code",
   "execution_count": 190,
   "metadata": {},
   "outputs": [
    {
     "name": "stdout",
     "output_type": "stream",
     "text": [
      "Index(['image', 'pixels_close_OD_over_total'], dtype='object') Index(['image', 'green_pixels_over_total_OD'], dtype='object') Index(['image', 'N_total_green_segments'], dtype='object') Index(['image', 'FD_all', 'FD_artery', 'FD_vein'], dtype='object') Index(['image', 'VD_orig_all', 'VD_orig_artery', 'VD_orig_vein',\n",
      "       'VD_200px_all', 'VD_200px_artery', 'VD_200px_vein'],\n",
      "      dtype='object')\n"
     ]
    }
   ],
   "source": [
    "print(pheno_NeoOD.columns, pheno_greenOD.columns, pheno_N_green_seg.columns, pheno_FD.columns, pheno_VD.columns)"
   ]
  },
  {
   "cell_type": "code",
   "execution_count": 191,
   "metadata": {},
   "outputs": [],
   "source": [
    "#pheno_ARIA.columns\n",
    "#### to define!\n",
    "pheno_of_interest = pheno_ARIA # pheno_N_bif, pheno_ARIA, pheno_N_green, pheno_tVA, pheno_tAA, pheno_NeoOD, pheno_greenOD, pheno_N_green_seg\n",
    "                                # pheno_FD, pheno_VD\n",
    "\n",
    "pheno_name='DF_all' #'N_bif', 'medianDiameter_all', 'DF_all', 'N_green', 'tVA', 'tAA', 'pixels_close_OD_over_total'\n",
    "                                        # 'green_pixels_over_total_OD', 'N_total_green_segments', 'FD_all', 'VD_orig_all'"
   ]
  },
  {
   "cell_type": "code",
   "execution_count": 192,
   "metadata": {},
   "outputs": [],
   "source": [
    "## right eye\n",
    "df_right_intersection_00 = df_right_intersection.merge(pheno_of_interest, how='left', left_on=['image_00'], right_on=['image'], suffixes=('', '_y'))\n",
    "df_right_intersection_00.drop(df_right_intersection_00.filter(regex='_y$').columns.tolist(),axis=1, inplace=True)\n",
    "\n",
    "df_right_intersection_01 = df_right_intersection.merge(pheno_of_interest, how='left', left_on=['image_01'], right_on=['image'], suffixes=('', '_y'))\n",
    "df_right_intersection_01.drop(df_right_intersection_01.filter(regex='_y$').columns.tolist(),axis=1, inplace=True)\n",
    "\n",
    "df_right_intersection_10 = df_right_intersection.merge(pheno_of_interest, how='left', left_on=['image_10'], right_on=['image'], suffixes=('', '_y'))\n",
    "df_right_intersection_10.drop(df_right_intersection_10.filter(regex='_y$').columns.tolist(),axis=1, inplace=True)\n",
    "\n",
    "df_right_intersection_11 = df_right_intersection.merge(pheno_of_interest, how='left', left_on=['image_11'], right_on=['image'], suffixes=('', '_y'))\n",
    "df_right_intersection_11.drop(df_right_intersection_11.filter(regex='_y$').columns.tolist(),axis=1, inplace=True)\n",
    "\n",
    "## left eye\n",
    "df_left_intersection_00 = df_left_intersection.merge(pheno_of_interest, how='left', left_on=['image_00'], right_on=['image'], suffixes=('', '_y'))\n",
    "df_left_intersection_00.drop(df_left_intersection_00.filter(regex='_y$').columns.tolist(),axis=1, inplace=True)\n",
    "\n",
    "df_left_intersection_01 = df_left_intersection.merge(pheno_of_interest, how='left', left_on=['image_01'], right_on=['image'], suffixes=('', '_y'))\n",
    "df_left_intersection_01.drop(df_left_intersection_01.filter(regex='_y$').columns.tolist(),axis=1, inplace=True)\n",
    "\n",
    "df_left_intersection_10 = df_left_intersection.merge(pheno_of_interest, how='left', left_on=['image_10'], right_on=['image'], suffixes=('', '_y'))\n",
    "df_left_intersection_10.drop(df_left_intersection_10.filter(regex='_y$').columns.tolist(),axis=1, inplace=True)\n",
    "\n",
    "df_left_intersection_11 = df_left_intersection.merge(pheno_of_interest, how='left', left_on=['image_11'], right_on=['image'], suffixes=('', '_y'))\n",
    "df_left_intersection_11.drop(df_left_intersection_11.filter(regex='_y$').columns.tolist(),axis=1, inplace=True)"
   ]
  },
  {
   "cell_type": "code",
   "execution_count": 193,
   "metadata": {},
   "outputs": [],
   "source": [
    "# To avaid having the same name\n",
    "## right \n",
    "df_right_intersection_00.rename(columns = {pheno_name: pheno_name+'_00'}, inplace = True)\n",
    "df_right_intersection_10.rename(columns = {pheno_name: pheno_name+'_10'}, inplace = True)\n",
    "df_right_intersection_01.rename(columns = {pheno_name: pheno_name+'_01'}, inplace = True)\n",
    "df_right_intersection_11.rename(columns = {pheno_name:pheno_name+'_11'}, inplace = True)\n",
    "\n",
    "## left\n",
    "df_left_intersection_00.rename(columns = {pheno_name: pheno_name+'_00'}, inplace = True)\n",
    "df_left_intersection_01.rename(columns = {pheno_name: pheno_name+'_10'}, inplace = True)\n",
    "df_left_intersection_10.rename(columns = {pheno_name: pheno_name+'_01'}, inplace = True)\n",
    "df_left_intersection_11.rename(columns = {pheno_name:pheno_name+'_11'}, inplace = True)"
   ]
  },
  {
   "cell_type": "code",
   "execution_count": 194,
   "metadata": {},
   "outputs": [
    {
     "name": "stdout",
     "output_type": "stream",
     "text": [
      "len(df_right_intersection_00):  2283\n",
      "len(df_left_intersection_00):  2257\n"
     ]
    },
    {
     "data": {
      "image/png": "[encoded data removed]",
      "text/plain": [
       "<Figure size 432x288 with 1 Axes>"
      ]
     },
     "metadata": {
      "needs_background": "light"
     },
     "output_type": "display_data"
    }
   ],
   "source": [
    "df_right_intersection_00[pheno_name+'_00'].hist()\n",
    "print('len(df_right_intersection_00): ', len(df_right_intersection_00))\n",
    "\n",
    "df_left_intersection_00[pheno_name+'_00'].hist()\n",
    "print('len(df_left_intersection_00): ', len(df_left_intersection_00))"
   ]
  },
  {
   "cell_type": "code",
   "execution_count": 195,
   "metadata": {},
   "outputs": [
    {
     "name": "stdout",
     "output_type": "stream",
     "text": [
      "len(df_right_intersection_all) 2283\n",
      "len(df_left_intersection_all) 2257\n"
     ]
    }
   ],
   "source": [
    "## Merge 00, 01, 10 and 11 \n",
    "# Right: \n",
    "df_right_intersection_all = df_right_intersection_00.merge(df_right_intersection_01, how='left', on='image_00', suffixes=('', '_y'))\n",
    "df_right_intersection_all.drop(df_right_intersection_all.filter(regex='_y$').columns.tolist(),axis=1, inplace=True)\n",
    "df_right_intersection_all = df_right_intersection_all.merge(df_right_intersection_10, how='left', on='image_00', suffixes=('', '_y'))\n",
    "df_right_intersection_all.drop(df_right_intersection_all.filter(regex='_y$').columns.tolist(),axis=1, inplace=True)\n",
    "df_right_intersection_all = df_right_intersection_all.merge(df_right_intersection_11, how='left', on='image_00', suffixes=('', '_y'))\n",
    "df_right_intersection_all.drop(df_right_intersection_all.filter(regex='_y$').columns.tolist(),axis=1, inplace=True)\n",
    "print('len(df_right_intersection_all)', len(df_right_intersection_all))\n",
    "#df_right_intersection_all.head(10)\n",
    "\n",
    "# Right: \n",
    "df_left_intersection_all = df_left_intersection_00.merge(df_left_intersection_01, how='left', on='image_00', suffixes=('', '_y'))\n",
    "df_left_intersection_all.drop(df_left_intersection_all.filter(regex='_y$').columns.tolist(),axis=1, inplace=True)\n",
    "df_left_intersection_all = df_left_intersection_all.merge(df_left_intersection_10, how='left', on='image_00', suffixes=('', '_y'))\n",
    "df_left_intersection_all.drop(df_left_intersection_all.filter(regex='_y$').columns.tolist(),axis=1, inplace=True)\n",
    "df_left_intersection_all = df_left_intersection_all.merge(df_left_intersection_11, how='left', on='image_00', suffixes=('', '_y'))\n",
    "df_left_intersection_all.drop(df_left_intersection_all.filter(regex='_y$').columns.tolist(),axis=1, inplace=True)\n",
    "print('len(df_left_intersection_all)', len(df_left_intersection_all))\n",
    "\n"
   ]
  },
  {
   "cell_type": "code",
   "execution_count": 196,
   "metadata": {},
   "outputs": [
    {
     "name": "stdout",
     "output_type": "stream",
     "text": [
      "len(df_right_intersection_all) 2283\n",
      "len(df_left_intersection_all) 2257\n"
     ]
    }
   ],
   "source": [
    "### Create two new columns abs(00-10) and |00-10|\n",
    "#Right \n",
    "df_right_intersection_all['00_menos_10']=(df_right_intersection_all[pheno_name+'_00']-df_right_intersection_all[pheno_name+'_10'])\n",
    "df_right_intersection_all['00_menos_10']=(df_right_intersection_all['00_menos_10']-df_right_intersection_all['00_menos_10'].mean())/df_right_intersection_all['00_menos_10'].std()\n",
    "#df_right_intersection_all['00_menos_10'].hist(bins=20)\n",
    "print('len(df_right_intersection_all)', len(df_right_intersection_all))\n",
    "\n",
    "#Right \n",
    "df_left_intersection_all['00_menos_10']=(df_left_intersection_all[pheno_name+'_00']-df_left_intersection_all[pheno_name+'_10'])\n",
    "df_left_intersection_all['00_menos_10']=(df_left_intersection_all['00_menos_10']-df_left_intersection_all['00_menos_10'].mean())/df_left_intersection_all['00_menos_10'].std()\n",
    "print('len(df_left_intersection_all)', len(df_left_intersection_all))\n",
    "\n",
    "\n",
    "### Save file before QC\n",
    "### Saving files\n",
    "df_right_intersection_all.to_csv('/SSD/home/sofia/retina/Different_time_points/results/'+ pheno_name + '_right_before_QC.csv') \n",
    "df_left_intersection_all.to_csv('/SSD/home/sofia/retina/Different_time_points/results/'+ pheno_name + '_left_before_QC.csv')   "
   ]
  },
  {
   "cell_type": "code",
   "execution_count": 197,
   "metadata": {},
   "outputs": [
    {
     "name": "stdout",
     "output_type": "stream",
     "text": [
      "len(df_right_QC):  1396\n",
      "len(df_left_QC):  1413\n"
     ]
    }
   ],
   "source": [
    "## Filter by QC\n",
    "df_QC = pd.read_csv(\"/SSD/home/sofia/Codigos_auxiliares/ageCorrected_ventiles5.txt\", sep=',', header=None)\n",
    "df_QC.columns = ['image_QC']\n",
    "#df_QC.head(10)\n",
    "\n",
    "#Right:\n",
    "df_right_QC = pd.merge(df_QC, df_right_intersection_all, how='inner', left_on=['image_QC'],right_on=['image_00'], suffixes=('', '_y'))\n",
    "df_right_QC.drop(df_right_QC.filter(regex='_y$').columns.tolist(),axis=1, inplace=True)\n",
    "df_right_QC = pd.merge(df_QC, df_right_intersection_all, how='inner', left_on=['image_QC'],right_on=['image_10'], suffixes=('', '_y'))\n",
    "df_right_QC.drop(df_right_QC.filter(regex='_y$').columns.tolist(),axis=1, inplace=True)\n",
    "\n",
    "df_right_QC['abs00_menos_10']=abs(df_right_QC[pheno_name+'_00']-df_right_QC[pheno_name+'_10'])\n",
    "df_right_QC['abs00_menos_10']=(df_right_QC['abs00_menos_10']-df_right_QC['abs00_menos_10'].mean())/df_right_QC['abs00_menos_10'].std()\n",
    "print('len(df_right_QC): ', len(df_right_QC))\n",
    "#df_right_QC['abs00_menos_10'].hist(bins=20)\n",
    "\n",
    "df_right_QC['00_menos_10']=(df_right_QC[pheno_name+'_00']-df_right_QC[pheno_name+'_10'])\n",
    "df_right_QC['00_menos_10']=(df_right_QC['00_menos_10']-df_right_QC['00_menos_10'].mean())/df_right_QC['00_menos_10'].std()\n",
    "#df_right_QC['00_menos_10'].hist(bins=20)\n",
    "\n",
    "#Left:\n",
    "df_left_QC = pd.merge(df_QC, df_left_intersection_all, how='inner', left_on=['image_QC'],right_on=['image_00'], suffixes=('', '_y'))\n",
    "df_left_QC.drop(df_left_QC.filter(regex='_y$').columns.tolist(),axis=1, inplace=True)\n",
    "df_left_QC = pd.merge(df_QC, df_left_intersection_all, how='inner', left_on=['image_QC'],right_on=['image_10'], suffixes=('', '_y'))\n",
    "df_left_QC.drop(df_left_QC.filter(regex='_y$').columns.tolist(),axis=1, inplace=True)\n",
    "\n",
    "df_left_QC['abs00_menos_10']=abs(df_left_QC[pheno_name+'_00']-df_left_QC[pheno_name+'_10'])\n",
    "df_left_QC['abs00_menos_10']=(df_left_QC['abs00_menos_10']-df_left_QC['abs00_menos_10'].mean())/df_left_QC['abs00_menos_10'].std()\n",
    "print('len(df_left_QC): ', len(df_left_QC))\n",
    "#df_left_QC['abs00_menos_10'].hist(bins=20)\n",
    "\n",
    "df_left_QC['00_menos_10']=(df_left_QC[pheno_name+'_00']-df_left_QC[pheno_name+'_10'])\n",
    "df_left_QC['00_menos_10']=(df_left_QC['00_menos_10']-df_left_QC['00_menos_10'].mean())/df_left_QC['00_menos_10'].std()\n",
    "#df_left_QC['00_menos_10'].hist(bins=20)\n",
    "\n",
    "### Saving files\n",
    "df_right_QC.to_csv('/SSD/home/sofia/retina/Different_time_points/results/'+ pheno_name + '_right_QC.csv') \n",
    "df_left_QC.to_csv('/SSD/home/sofia/retina/Different_time_points/results/'+ pheno_name + '_left_QC.csv')   "
   ]
  },
  {
   "cell_type": "code",
   "execution_count": 198,
   "metadata": {},
   "outputs": [],
   "source": [
    "#df_right_intersection = df_right_intersection.merge(pheno_tVA, how='left', left_on=['image_00'], right_on=['image'])\n",
    "#df_right_intersection = df_right_intersection.merge(pheno_tAA, how='left', left_on=['image_00'], right_on=['image'])\n",
    "#df_right_intersection = df_right_intersection.merge(pheno_NeoOD, how='left', left_on=['image_00'], right_on=['image'])\n",
    "#df_right_intersection = df_right_intersection.merge(pheno_greenOD, how='left', left_on=['image_00'], right_on=['image'])\n",
    "#df_right_intersection = df_right_intersection.merge(pheno_N_green_seg, how='left', left_on=['image_00'], right_on=['image'])\n",
    "#df_right_intersection = df_right_intersection.merge(pheno_FD, how='left', left_on=['image_00'], right_on=['image'])\n",
    "#df_right_intersection = df_right_intersection.merge(pheno_VD, how='left', left_on=['image_00'], right_on=['image'])\n"
   ]
  }
 ],
 "metadata": {
  "interpreter": {
   "hash": "fd69f43f58546b570e94fd7eba7b65e6bcc7a5bbc4eab0408017d18902915d69"
  },
  "kernelspec": {
   "display_name": "Python 3.7.5 64-bit",
   "name": "python3"
  },
  "language_info": {
   "codemirror_mode": {
    "name": "ipython",
    "version": 3
   },
   "file_extension": ".py",
   "mimetype": "text/x-python",
   "name": "python",
   "nbconvert_exporter": "python",
   "pygments_lexer": "ipython3",
   "version": "3.7.5"
  }
 },
 "nbformat": 4,
 "nbformat_minor": 4
}
